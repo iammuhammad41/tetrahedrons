{
  "cells": [
    {
      "cell_type": "markdown",
      "metadata": {
        "id": "view-in-github",
        "colab_type": "text"
      },
      "source": [
        "<a href=\"https://colab.research.google.com/github/iammuhammad41/tetrahedrons/blob/main/tetrahedrons.ipynb\" target=\"_parent\"><img src=\"https://colab.research.google.com/assets/colab-badge.svg\" alt=\"Open In Colab\"/></a>"
      ]
    },
    {
      "cell_type": "code",
      "execution_count": null,
      "id": "77c2070f-d3df-4d57-9f2d-f74b8231c38b",
      "metadata": {
        "id": "77c2070f-d3df-4d57-9f2d-f74b8231c38b"
      },
      "outputs": [],
      "source": [
        "#new\n",
        "import os\n",
        "import numpy as np\n",
        "import pandas as pd\n",
        "import matplotlib.pyplot as plt\n",
        "from sklearn.preprocessing import StandardScaler\n",
        "from sklearn.decomposition import PCA\n",
        "from sklearn.neighbors import NearestNeighbors\n",
        "from sklearn.impute import SimpleImputer"
      ]
    },
    {
      "cell_type": "code",
      "execution_count": null,
      "id": "73198947-7a52-4473-bd52-c1149feb8027",
      "metadata": {
        "id": "73198947-7a52-4473-bd52-c1149feb8027"
      },
      "outputs": [],
      "source": [
        "'''Data loading '''\n",
        "def load_dataset(file_path, target_column):\n",
        "    df = pd.read_csv(file_path)\n",
        "    print(f\"Loaded dataset: {file_path} with shape: {df.shape}\")\n",
        "\n",
        "    # checking target_column if exist\n",
        "    if target_column not in df.columns:\n",
        "        print(f\"Error: Target column '{target_column}' not found in the dataset.\")\n",
        "        return None, None\n",
        "\n",
        "    # Converting target column to binary (0 for negative, 1 for positive)\n",
        "    y = (df[target_column] == 1).astype(int)\n",
        "    X = pd.get_dummies(df.drop(columns=[target_column]))\n",
        "\n",
        "    # Imputing missing values\n",
        "    imputer = SimpleImputer(strategy='mean')\n",
        "    X_imputed = imputer.fit_transform(X)\n",
        "\n",
        "    return X_imputed, y\n"
      ]
    },
    {
      "cell_type": "code",
      "execution_count": null,
      "id": "c6ec1e07-382b-48db-b430-ebc338dc4383",
      "metadata": {
        "id": "c6ec1e07-382b-48db-b430-ebc338dc4383"
      },
      "outputs": [],
      "source": [
        "'''Constructing a tetrahedron around a positive point with specific neighbors'''\n",
        "def construct_tetrahedron(pos_point, negative_samples, positive_samples):\n",
        "    nbrs_neg = NearestNeighbors(n_neighbors=5).fit(negative_samples)\n",
        "    _, neg_indices = nbrs_neg.kneighbors([pos_point])\n",
        "    chosen_negatives = negative_samples[neg_indices[0][[0, 2]]]  # First and third nearest neighbors\n",
        "\n",
        "    centroid = np.mean(np.vstack([pos_point, chosen_negatives]), axis=0)\n",
        "\n",
        "    nbrs_pos = NearestNeighbors(n_neighbors=1).fit(positive_samples)\n",
        "    _, pos_indices = nbrs_pos.kneighbors([centroid])\n",
        "    chosen_positive = positive_samples[pos_indices[0][0]]\n",
        "\n",
        "    tetrahedron_vertices = np.vstack([pos_point, chosen_negatives, chosen_positive])\n",
        "\n",
        "    return tetrahedron_vertices if tetrahedron_vertices.shape[0] == 4 else None"
      ]
    },
    {
      "cell_type": "code",
      "execution_count": null,
      "id": "f24d0182-f6a4-4924-bf6b-c85d5eb54411",
      "metadata": {
        "id": "f24d0182-f6a4-4924-bf6b-c85d5eb54411"
      },
      "outputs": [],
      "source": [
        "''' Checking if a point is inside a tetrahedron '''\n",
        "def is_point_inside_tetrahedron(point, A, B, C, D):\n",
        "    def signed_volume(P, Q, R, S):\n",
        "        return np.dot(np.cross(Q - P, R - P), S - P) / 6\n",
        "\n",
        "    vol_tetra = signed_volume(A, B, C, D)\n",
        "    vol1 = signed_volume(point, B, C, D)\n",
        "    vol2 = signed_volume(A, point, C, D)\n",
        "    vol3 = signed_volume(A, B, point, D)\n",
        "    vol4 = signed_volume(A, B, C, point)\n",
        "    return np.abs(vol_tetra - (vol1 + vol2 + vol3 + vol4)) < 1e-6"
      ]
    },
    {
      "cell_type": "code",
      "execution_count": null,
      "id": "7778ab8f-59b0-44d1-8464-19091c944b5b",
      "metadata": {
        "id": "7778ab8f-59b0-44d1-8464-19091c944b5b"
      },
      "outputs": [],
      "source": [
        "''' Computing the volume of a tetrahedron '''\n",
        "def compute_tetrahedron_volume(vertices):\n",
        "    A = np.ones((4, 4))\n",
        "    A[1:, :] = vertices.T\n",
        "    volume = np.abs(np.linalg.det(A)) / 6\n",
        "    return volume if volume > 0 else 1e-6"
      ]
    },
    {
      "cell_type": "code",
      "execution_count": null,
      "id": "b54dbaaf-39f0-444b-941e-72ef3e89625c",
      "metadata": {
        "id": "b54dbaaf-39f0-444b-941e-72ef3e89625c"
      },
      "outputs": [],
      "source": [
        "'''Calculating the density of points within a tetrahedron'''\n",
        "def density(tetrahedron_vertices, positive_points):\n",
        "    count_positive_inside = sum(\n",
        "        [1 for point in positive_points if is_point_inside_tetrahedron(point, *tetrahedron_vertices)]\n",
        "    )\n",
        "    volume = compute_tetrahedron_volume(tetrahedron_vertices)\n",
        "    return count_positive_inside / volume if volume != 0 else 1e-6, count_positive_inside"
      ]
    },
    {
      "cell_type": "code",
      "execution_count": null,
      "id": "f07b5893-2efc-4e60-9e2f-344438a7fa00",
      "metadata": {
        "id": "f07b5893-2efc-4e60-9e2f-344438a7fa00"
      },
      "outputs": [],
      "source": [
        "''' Generating synthetic samples based on density within tetrahedrons '''\n",
        "def generate_synthetic_samples(tetrahedrons, positive_pca, densities, positive_samples):\n",
        "    synthetic_samples = []\n",
        "    total_synthetic_samples = len(positive_samples)  # it Should match the number of positive samples\n",
        "    total_density = sum(densities)\n",
        "\n",
        "    # Calculating the number of synthetic samples per tetrahedron based on its density\n",
        "    synthetic_sample_counts = [\n",
        "        round((density / total_density) * total_synthetic_samples) for density in densities\n",
        "    ]\n",
        "\n",
        "    # Adjusting the total number of synthetic samples to match positive samples exactly\n",
        "    total_generated = sum(synthetic_sample_counts)\n",
        "    diff = total_synthetic_samples - total_generated\n",
        "    if diff > 0:\n",
        "        # Distributing the remaining samples across the tetrahedrons\n",
        "        for i in range(diff):\n",
        "            synthetic_sample_counts[i % len(synthetic_sample_counts)] += 1\n",
        "\n",
        "    for i, (tetrahedron, count) in enumerate(zip(tetrahedrons, synthetic_sample_counts)):\n",
        "        if count > 0:\n",
        "            positive_points_within = [p for p in positive_pca if is_point_inside_tetrahedron(p, *tetrahedron)]\n",
        "            if positive_points_within:\n",
        "                # Generating synthetic samples based on the tetrahedron vertices and points within\n",
        "                samples_for_tetrahedron = generate_synthetic_samples_with_triangles(tetrahedron, positive_points_within)[:count]\n",
        "                synthetic_samples.extend(samples_for_tetrahedron)\n",
        "\n",
        "    # printing generated and positive sample counts for cross-checking\n",
        "    print(f\"Generated synthetic samples count: {len(synthetic_samples)}\")\n",
        "    print(f\"Positive samples count: {len(positive_samples)}\")\n",
        "\n",
        "    # Checking if the counts match and print a message\n",
        "    if len(synthetic_samples) == len(positive_samples):\n",
        "        print(\"Success: The number of generated synthetic samples matches the number of positive samples!\")\n",
        "    else:\n",
        "        print(\"Warning: The number of generated synthetic samples does NOT match the number of positive samples.\")\n",
        "\n",
        "    return np.array(synthetic_samples)"
      ]
    },
    {
      "cell_type": "code",
      "execution_count": null,
      "id": "9077db5c-2f8a-4d57-a45c-04ce6f9df36a",
      "metadata": {
        "id": "9077db5c-2f8a-4d57-a45c-04ce6f9df36a"
      },
      "outputs": [],
      "source": [
        "'''Generating samples'''\n",
        "def generate_synthetic_samples_with_triangles(tetrahedron, positive_points_within):\n",
        "    synthetic_samples = []\n",
        "    used_indices = set()  # Keeping track of used indices\n",
        "    initial_positive_point = tetrahedron[0]\n",
        "    for i, pos_point in enumerate(positive_points_within):\n",
        "        for j, random_positive in enumerate(positive_points_within):\n",
        "            # Ensuring pos_point and random_positive are not the same and not previously used together\n",
        "            if i != j and (i, j) not in used_indices and (j, i) not in used_indices:\n",
        "                # Marking this pair as used\n",
        "                used_indices.add((i, j))\n",
        "\n",
        "                # Form the triangle with the fixed tetrahedron vertex and the two positive points\n",
        "                triangle_vertices = np.vstack([tetrahedron[0], pos_point, random_positive])[:3]\n",
        "\n",
        "                # Generating random weights from a Dirichlet distribution\n",
        "                triangle_weights = np.random.dirichlet(np.ones(3), size=1)\n",
        "\n",
        "                # Computing the synthetic sample using the weights\n",
        "                synthetic_samples.append(np.dot(triangle_weights, triangle_vertices)[0])\n",
        "\n",
        "    return np.array(synthetic_samples)"
      ]
    },
    {
      "cell_type": "code",
      "execution_count": null,
      "id": "277093af-f3d8-4d40-afe1-20f699e930f1",
      "metadata": {
        "id": "277093af-f3d8-4d40-afe1-20f699e930f1"
      },
      "outputs": [],
      "source": [
        "'''Visualizing data with PCA and synthetic samples'''\n",
        "def visualize_data(X_pca, negative_pca, positive_pca, synthetic_samples, elev=30, azim=45):\n",
        "    fig = plt.figure(figsize=(12, 10))\n",
        "    ax = fig.add_subplot(111, projection='3d')\n",
        "    ax.scatter(negative_pca[:, 0], negative_pca[:, 1], negative_pca[:, 2],\n",
        "               c='blue', label='Negative Samples', marker='o', alpha=0.6)\n",
        "    ax.scatter(positive_pca[:, 0], positive_pca[:, 1], positive_pca[:, 2],\n",
        "               c='red', label='Positive Samples', marker='x', alpha=0.6)\n",
        "    if synthetic_samples.size > 0:\n",
        "        ax.scatter(synthetic_samples[:, 0], synthetic_samples[:, 1], synthetic_samples[:, 2],\n",
        "                   c='black', label='Synthetic Samples', marker='^', alpha=0.6)\n",
        "    else:\n",
        "        print(\"No synthetic samples to plot.\")\n",
        "    ax.set_xlabel('PCA Component 1')\n",
        "    ax.set_ylabel('PCA Component 2')\n",
        "    ax.set_zlabel('PCA Component 3')\n",
        "    ax.legend()\n",
        "    plt.title(\"PCA of Dataset with Synthetic Samples\")\n",
        "    ax.view_init(elev=elev, azim=azim)\n",
        "    plt.show()"
      ]
    },
    {
      "cell_type": "code",
      "execution_count": null,
      "id": "7dc368b6-7ad5-464d-a4e0-4203f28d483d",
      "metadata": {
        "id": "7dc368b6-7ad5-464d-a4e0-4203f28d483d"
      },
      "outputs": [],
      "source": [
        "''' Main function to process dataset '''\n",
        "def main(file_path, target_column, elev=40, azim=60):\n",
        "    if not os.path.exists(file_path):\n",
        "        print(f\"File not found: {file_path}\")\n",
        "        return\n",
        "\n",
        "    X, y = load_dataset(file_path, target_column)\n",
        "    if X is None or y is None:\n",
        "        return\n",
        "\n",
        "    scaler = StandardScaler()\n",
        "    X_scaled = scaler.fit_transform(X)\n",
        "\n",
        "    negative_samples = X_scaled[y == 0]\n",
        "    positive_samples = X_scaled[y == 1]\n",
        "\n",
        "    pca = PCA(n_components=3)\n",
        "    X_pca = pca.fit_transform(np.vstack((negative_samples, positive_samples)))\n",
        "    negative_pca, positive_pca = X_pca[:len(negative_samples)], X_pca[len(negative_samples):]\n",
        "\n",
        "    densities, tetrahedrons = [], []\n",
        "    for pos_point in positive_pca:\n",
        "        tetrahedron = construct_tetrahedron(pos_point, negative_pca, positive_pca)\n",
        "        if tetrahedron is not None:\n",
        "            tetrahedrons.append(tetrahedron)\n",
        "            density_value, _ = density(tetrahedron, positive_pca)\n",
        "            densities.append(density_value)\n",
        "\n",
        "\n",
        "    synthetic_samples = generate_synthetic_samples(\n",
        "    tetrahedrons, positive_pca, densities, positive_samples)\n",
        "\n",
        "    visualize_data(X_pca, negative_pca, positive_pca, synthetic_samples, elev=elev, azim=azim)"
      ]
    },
    {
      "cell_type": "code",
      "execution_count": 1,
      "id": "6094a3cc-d4f1-4380-be12-29e93943a440",
      "metadata": {
        "id": "6094a3cc-d4f1-4380-be12-29e93943a440"
      },
      "outputs": [],
      "source": [
        "''' testing / visualizing the tetrahedrons'''\n",
        "file_path = r'D:\\data\\newdata.csv'  # Path of the dataset\n",
        "target_column = 'Class'  # Target column with class labels\n",
        "main(file_path, target_column, elev=40, azim=65)"
      ]
    },
    {
      "cell_type": "code",
      "execution_count": null,
      "id": "0614b3a5-262f-474b-a9b5-7e1966557cca",
      "metadata": {
        "id": "0614b3a5-262f-474b-a9b5-7e1966557cca"
      },
      "outputs": [],
      "source": []
    }
  ],
  "metadata": {
    "kernelspec": {
      "display_name": "Python 3 (ipykernel)",
      "language": "python",
      "name": "python3"
    },
    "language_info": {
      "codemirror_mode": {
        "name": "ipython",
        "version": 3
      },
      "file_extension": ".py",
      "mimetype": "text/x-python",
      "name": "python",
      "nbconvert_exporter": "python",
      "pygments_lexer": "ipython3",
      "version": "3.11.9"
    },
    "colab": {
      "provenance": [],
      "include_colab_link": true
    }
  },
  "nbformat": 4,
  "nbformat_minor": 5
}